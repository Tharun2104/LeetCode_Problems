{
 "cells": [
  {
   "cell_type": "markdown",
   "id": "e6f4d8d2-5d6c-4c70-9070-90f43fcadd32",
   "metadata": {},
   "source": [
    "# Daily LeetCode Problem Solving\n",
    "\n",
    "I am actively upskilling myself by solving LeetCode problems daily. This IPython Notebook (IPYNB) file contains all my solutions and notes from these problems.\n",
    "\n",
    "I am committed to improving my problem-solving skills and mastering data structures, algorithms, and coding techniques.\n",
    "\n"
   ]
  },
  {
   "cell_type": "markdown",
   "id": "ee96cde8-1181-415f-afb6-33eb19f57456",
   "metadata": {},
   "source": [
    "Date - 06/13/2024"
   ]
  },
  {
   "cell_type": "markdown",
   "id": "2f6d55dd-3834-4486-b533-d5df00252489",
   "metadata": {},
   "source": [
    "#### 11. Container With Most Water\n",
    "\n",
    "**Input**: `height = [1,8,6,2,5,4,8,3,7]`<br>\n",
    "**Output**: `49`<br>\n",
    "**Explanation**: The above vertical lines are represented by array `[1,8,6,2,5,4,8,3,7]`. In this case, the max area of water (blue section) the container can contain is 49."
   ]
  },
  {
   "cell_type": "code",
   "execution_count": 24,
   "id": "3b1f601b-b2ed-49a0-831e-b623dfad2aa2",
   "metadata": {},
   "outputs": [
    {
     "data": {
      "text/plain": [
       "49"
      ]
     },
     "execution_count": 24,
     "metadata": {},
     "output_type": "execute_result"
    }
   ],
   "source": [
    "height = [1,8,6,2,5,4,8,3,7]\n",
    "class Solution:\n",
    "    def maxArea(self, height: list[int]) -> int:\n",
    "        start = 0\n",
    "        end = len(height)-1\n",
    "        max = float('-inf')\n",
    "        while(end>start):\n",
    "            breath = min(height[start],height[end])\n",
    "            length = end - start\n",
    "            area = length*breath\n",
    "            if ( area> max ):\n",
    "                max = area\n",
    "            if(height[start]>height[end]):\n",
    "                end = end -1\n",
    "            else:\n",
    "                start = start + 1\n",
    "        return max\n",
    "test = Solution()\n",
    "test.maxArea(height)"
   ]
  },
  {
   "cell_type": "markdown",
   "id": "8e045664-1518-4b9c-a43d-30e8f5e1213a",
   "metadata": {},
   "source": [
    "#### 57. Insert Interval\n",
    "\n",
    "**Input**: `intervals = [[1,2],[3,5],[6,7],[8,10],[12,16]], newInterval = [4,8]`<br>\n",
    "**Output**: `[[1,2],[3,10],[12,16]]`<br>\n",
    "**Explanation**: Because the new interval `[4,8]` overlaps with `[3,5],[6,7],[8,10]`.\n"
   ]
  },
  {
   "cell_type": "code",
   "execution_count": 25,
   "id": "3ee29839-c576-44d2-88f4-75d925ff408c",
   "metadata": {},
   "outputs": [
    {
     "data": {
      "text/plain": [
       "[[1, 2], [3, 10], [12, 16]]"
      ]
     },
     "execution_count": 25,
     "metadata": {},
     "output_type": "execute_result"
    }
   ],
   "source": [
    "intervals = [[1,2],[3,5],[6,7],[8,10],[12,16]]\n",
    "newInterval = [4,8]\n",
    "class Solution:\n",
    "    def insert(self, intervals: list[list[int]], newInterval: list[int]) -> list[list[int]]:\n",
    "        intervals.append(newInterval)\n",
    "        intervals = sorted(intervals)\n",
    "        # print(intervals)\n",
    "        final_list = [intervals[0]]\n",
    "        for start, end in intervals[1:]:\n",
    "            if(start>final_list[-1][1]):\n",
    "                final_list.append([start,end])\n",
    "            else:\n",
    "                old_interval = final_list[-1][0]\n",
    "                new_interval=max(final_list[-1][1],end)\n",
    "                final_list[-1][1] = new_interval\n",
    "        return final_list\n",
    "\n",
    "test = Solution\n",
    "test.insert(\":\",intervals,newInterval)"
   ]
  },
  {
   "cell_type": "markdown",
   "id": "28dcf79f-f64d-47cc-af0c-7d5ca8430b91",
   "metadata": {},
   "source": [
    "#### 56. Merge Intervals\n",
    "\n",
    "**Input**: `intervals = [[1,3],[2,6],[8,10],[15,18]]`<br>\n",
    "**Output**: `[[1,6],[8,10],[15,18]]`<br>\n",
    "**Explanation**: Since intervals `[1,3]` and `[2,6]` overlap, merge them into `[1,6]`.\n"
   ]
  },
  {
   "cell_type": "code",
   "execution_count": 26,
   "id": "c00f7a14-171e-4611-864d-141a565fc8c8",
   "metadata": {},
   "outputs": [
    {
     "data": {
      "text/plain": [
       "[[1, 6], [8, 10], [15, 18]]"
      ]
     },
     "execution_count": 26,
     "metadata": {},
     "output_type": "execute_result"
    }
   ],
   "source": [
    "intervals = [[1,3],[2,6],[8,10],[15,18]]\n",
    "# Output: [[1,6],[8,10],[15,18]]\n",
    "class Solution:\n",
    "    def merge(self, intervals: list[list[int]]) -> list[list[int]]:\n",
    "        intervals = sorted(intervals)\n",
    "        final_list = [intervals[0]]\n",
    "        for start, end in intervals[1:]:\n",
    "            if(start>final_list[-1][1]):\n",
    "                final_list.append([start,end])\n",
    "            else:\n",
    "                old_interval = final_list[-1][0]\n",
    "                new_interval=max(final_list[-1][1],end)\n",
    "                final_list[-1][1] = new_interval\n",
    "        return final_list\n",
    "        \n",
    "test = Solution()\n",
    "test.merge(intervals)      "
   ]
  },
  {
   "cell_type": "markdown",
   "id": "dc29c65f-e319-40f6-8e8c-d502f60baf40",
   "metadata": {},
   "source": [
    "#### 121. Best Time to Buy and Sell Stock\n",
    "\n",
    "**Input**: `prices = [7,1,5,3,6,4]`<br>\n",
    "**Output**: `5`<br>\n",
    "**Explanation**: Buy on day 2 (price = 1) and sell on day 5 (price = 6), profit = 6 - 1 = 5. Note that buying on day 2 and selling on day 1 is not allowed because you must buy before you sell.\n"
   ]
  },
  {
   "cell_type": "code",
   "execution_count": 27,
   "id": "ea6d4096-65d7-4259-b8eb-2980be34db34",
   "metadata": {},
   "outputs": [
    {
     "data": {
      "text/plain": [
       "5"
      ]
     },
     "execution_count": 27,
     "metadata": {},
     "output_type": "execute_result"
    }
   ],
   "source": [
    "prices = [7,1,5,3,6,4]\n",
    "class Solution:\n",
    "    def maxProfit(self, prices: list[int]) -> int:\n",
    "        max_profit = 0\n",
    "        min_price = float('inf')\n",
    "    \n",
    "        for price in prices:\n",
    "    \n",
    "            if price < min_price:  # finding minimum value \n",
    "                min_price = price\n",
    "    \n",
    "            current_profit = price - min_price  # substracting with other values\n",
    "            # print(current_profit)\n",
    "            if current_profit > max_profit:\n",
    "                max_profit = current_profit\n",
    "    \n",
    "        return max_profit\n",
    "test = Solution()\n",
    "test.maxProfit(prices)    "
   ]
  },
  {
   "cell_type": "markdown",
   "id": "c85f57b2-8072-4993-ad19-6779bd20954d",
   "metadata": {},
   "source": [
    "#### 169. Majority Element\n",
    "\n",
    "Given an array `nums` of size `n`, return the majority element.\n",
    "\n",
    "The majority element is the element that appears more than ⌊n / 2⌋ times. You may assume that the majority element always exists in the array.\n",
    "\n",
    "**Example 1**:\n",
    "\n",
    "**Input**: `nums = [3,2,3]`<br>\n",
    "**Output**: `3`<br>\n",
    "\n",
    "**Follow-up**: Could you solve the problem in linear time and in O(1) space?\n"
   ]
  },
  {
   "cell_type": "code",
   "execution_count": 28,
   "id": "734c86eb-9c0d-46f9-b8bd-93ff91cfda72",
   "metadata": {},
   "outputs": [
    {
     "data": {
      "text/plain": [
       "3"
      ]
     },
     "execution_count": 28,
     "metadata": {},
     "output_type": "execute_result"
    }
   ],
   "source": [
    "nums = [3,2,3]\n",
    "# nums = [6,5,5]\n",
    "nums = [3,3,4]\n",
    "class Solution:\n",
    "    def majorityElement(self, nums: list[int]) -> int:\n",
    "        vote = 0\n",
    "        candidate = 0\n",
    "        for i in nums:\n",
    "            if(vote == 0):\n",
    "                candidate = i\n",
    "            if(i == candidate):\n",
    "                vote += 1\n",
    "            else:\n",
    "                vote -= 1\n",
    "            # print(vote)\n",
    "        return candidate\n",
    "test = Solution()\n",
    "test.majorityElement(nums) "
   ]
  },
  {
   "cell_type": "markdown",
   "id": "d2982a8b-ab26-41e4-b4c4-cbd94a4870e7",
   "metadata": {},
   "source": [
    "Date - 06/14/2024"
   ]
  },
  {
   "cell_type": "markdown",
   "id": "06e24e66-3d12-4ad2-a14b-74cd9b5ed735",
   "metadata": {},
   "source": [
    "#### 283. Move Zeroes\n",
    "\n",
    "**Example 1**:\n",
    "\n",
    "**Input**: `nums = [0,1,0,3,12]`<br>\n",
    "**Output**: `[1,3,12,0,0]`\n"
   ]
  },
  {
   "cell_type": "code",
   "execution_count": 29,
   "id": "97abf113-b219-4798-aeb5-38d73c8f0120",
   "metadata": {},
   "outputs": [
    {
     "data": {
      "text/plain": [
       "[1, 2, 3, 0]"
      ]
     },
     "execution_count": 29,
     "metadata": {},
     "output_type": "execute_result"
    }
   ],
   "source": [
    "nums = [0,1,2,3]\n",
    "class Solution:\n",
    "    def moveZeroes(self, nums: list[int]) -> None:\n",
    "        \"\"\"\n",
    "        Do not return anything, modify nums in-place instead.\n",
    "        \"\"\"\n",
    "        last_zero_index = 0 # is initialized to 0. \n",
    "        # This variable keeps track of the position where the next non-zero element should be moved to.\n",
    "\n",
    "        for index, num in enumerate(nums):\n",
    "            if num != 0: # swap\n",
    "                nums[last_zero_index], nums[index] = nums[index], nums[last_zero_index]\n",
    "                last_zero_index += 1\n",
    "            # print(last_zero_index)\n",
    "            # print(nums)\n",
    "    \n",
    "        return nums\n",
    "test = Solution()\n",
    "test.moveZeroes(nums)     "
   ]
  },
  {
   "cell_type": "markdown",
   "id": "1264aa3b-f94e-40a7-98a9-9707e87621fd",
   "metadata": {},
   "source": [
    "#### 977. Squares of a Sorted Array\n",
    "\n",
    "**Input**: `nums = [-4,-1,0,3,10]`<br>\n",
    "**Output**: `[0,1,9,16,100]`<br>\n",
    "**Explanation**: After squaring, the array becomes `[16,1,0,9,100]`.\n",
    "After sorting, it becomes `[0,1,9,16,100]`.\n",
    "The array `nums` is sorted in non-decreasing order."
   ]
  },
  {
   "cell_type": "code",
   "execution_count": 30,
   "id": "1ee68422-5cf2-4e1b-8aec-2b8e9f2d0670",
   "metadata": {},
   "outputs": [
    {
     "data": {
      "text/plain": [
       "[0, 1, 9, 16, 100]"
      ]
     },
     "execution_count": 30,
     "metadata": {},
     "output_type": "execute_result"
    }
   ],
   "source": [
    "nums = [-4,-1,0,3,10]\n",
    "class Solution:\n",
    "    def sortedSquares(self, nums: list[int]) -> list[int]:\n",
    "        start = 0\n",
    "        end = len(nums)-1\n",
    "        res = [None]*len(nums)\n",
    "        res_point = len(nums)-1\n",
    "        while end>=start:\n",
    "            if(nums[start]**2 > nums[end]**2):\n",
    "                res[res_point] = nums[start]**2\n",
    "                res_point -= 1\n",
    "                start +=1\n",
    "            else:\n",
    "                res[res_point] = nums[end]**2\n",
    "                res_point -= 1\n",
    "                end -=1\n",
    "        return res\n",
    "test = Solution()\n",
    "test.sortedSquares(nums)"
   ]
  },
  {
   "cell_type": "markdown",
   "id": "29f56d59-2d6f-4c3a-884b-a158deeeedab",
   "metadata": {},
   "source": [
    "#### 238. Product of Array Except Self\n",
    "\n",
    "**Example 1**:\n",
    "\n",
    "**Input**: `nums = [1,2,3,4]`<br>\n",
    "**Output**: `[24,12,8,6]`\n"
   ]
  },
  {
   "cell_type": "code",
   "execution_count": 31,
   "id": "d8a9c5f0-80d4-4c34-a91b-20232a5c76f3",
   "metadata": {},
   "outputs": [
    {
     "data": {
      "text/plain": [
       "[24, 12, 8, 6]"
      ]
     },
     "execution_count": 31,
     "metadata": {},
     "output_type": "execute_result"
    }
   ],
   "source": [
    "nums = [1,2,3,4]\n",
    "class Solution:\n",
    "    def productExceptSelf(self, nums: list[int]) -> list[int]:\n",
    "        output = []\n",
    "        # storing prefixes\n",
    "        product = 1\n",
    "        for i in nums:  \n",
    "            output.append(product)\n",
    "            product = product * i\n",
    "        # mulyiplying psotifixes with prefixes\n",
    "        product = 1\n",
    "        for i in range(len(output)-1,-1,-1): # Iterating backwards till first element\n",
    "            output[i] = output[i]*product\n",
    "            product = product * nums[i]\n",
    "        return output\n",
    "test = Solution()\n",
    "test.productExceptSelf(nums)"
   ]
  },
  {
   "cell_type": "markdown",
   "id": "46588cd0-155b-428f-aeca-c4c94326e0cf",
   "metadata": {},
   "source": [
    "Date -  06/17/2024"
   ]
  },
  {
   "cell_type": "markdown",
   "id": "4f049079-f0ee-401f-a90c-f81136864348",
   "metadata": {},
   "source": [
    "#### 633. Sum of Square Numbers\n",
    "\n",
    "Given a non-negative integer `c`, decide whether there're two integers `a` and `b` such that `a^2 + b^2 = c`.\n",
    "\n",
    "**Example 1**:\n",
    "\n",
    "**Input**: `c = 5`<br>\n",
    "**Output**: `true`<br>\n",
    "**Explanation**: `1 * 1 + 2 * 2 = 5`\n"
   ]
  },
  {
   "cell_type": "markdown",
   "id": "2d76760d-76b5-435a-b9cf-f97d75b2e2ce",
   "metadata": {},
   "source": [
    "##### Approach 1"
   ]
  },
  {
   "cell_type": "code",
   "execution_count": 32,
   "id": "129990d4-11e0-40f6-87e0-0c3ffbd0f941",
   "metadata": {},
   "outputs": [],
   "source": [
    "class Solution:\n",
    "    def judgeSquareSum(self, c: int) -> bool:\n",
    "        if(c == 0):\n",
    "            return True\n",
    "        for i in range(int(sqrt(c)+1)):\n",
    "            temp = c - i**2\n",
    "            if(str((sqrt(temp)))[-1] == \"0\"):\n",
    "                return True\n",
    "        return False"
   ]
  },
  {
   "cell_type": "markdown",
   "id": "bb2623dc-8f7a-42e6-bd43-23ab40f23129",
   "metadata": {},
   "source": [
    "##### Approach 1"
   ]
  },
  {
   "cell_type": "code",
   "execution_count": 33,
   "id": "e8a733d2-1661-43dd-ba58-bda129770538",
   "metadata": {},
   "outputs": [],
   "source": [
    "import math\n",
    "class Solution:\n",
    "    def judgeSquareSum(self, c: int) -> bool:\n",
    "        ump = {}\n",
    "\n",
    "        for i in range(int(math.isqrt(c)) + 1):\n",
    "            square = i * i\n",
    "            ump[square] = ump.get(square, 0) + 1\n",
    "            req = c - square\n",
    "\n",
    "            if req in ump:\n",
    "                return True\n",
    "\n",
    "        return False"
   ]
  },
  {
   "cell_type": "markdown",
   "id": "d5ad3d7b-2885-455f-a595-0b1cb22aff95",
   "metadata": {},
   "source": [
    "#### 242. Valid Anagram\n",
    "\n",
    "An Anagram is a word or phrase formed by rearranging the letters of a different word or phrase, typically using all the original letters exactly once.\n",
    "\n",
    "**Example 1**:\n",
    "\n",
    "**Input**: `s = \"anagram\", t = \"nagaram\"`<br>\n",
    "**Output**:`true`\n"
   ]
  },
  {
   "cell_type": "code",
   "execution_count": 34,
   "id": "4e07fbad-9c83-4969-bbd0-b4228f44d480",
   "metadata": {},
   "outputs": [],
   "source": [
    "class Solution:\n",
    "    def isAnagram(self, s: str, t: str) -> bool:\n",
    "        if(dict(Counter(s)) == dict(Counter(t))):\n",
    "            return True\n",
    "        return False"
   ]
  },
  {
   "cell_type": "markdown",
   "id": "70872ea8-e204-4830-bdb1-9751f0da6c49",
   "metadata": {},
   "source": [
    "#### 125. Valid Palindrome\n",
    "\n",
    "A phrase is a palindrome if, after converting all uppercase letters into lowercase letters and removing all non-alphanumeric characters, it reads the same forward and backward. Alphanumeric characters include letters and numbers.\n",
    "\n",
    "**Example 1**:\n",
    "\n",
    "**Input**: `s = \"A man, a plan, a canal: Panama\"`<br>\n",
    "**Output**: `true`<br>\n",
    "**Explanation**: `\"amanaplanacanalpanama\"` is a palindrome.\n"
   ]
  },
  {
   "cell_type": "code",
   "execution_count": 35,
   "id": "ede9f332-df0c-4b93-b343-93520ca48a24",
   "metadata": {},
   "outputs": [
    {
     "data": {
      "text/plain": [
       "True"
      ]
     },
     "execution_count": 35,
     "metadata": {},
     "output_type": "execute_result"
    }
   ],
   "source": [
    "s =  \"A man, a plan, a canal: Panama\"\n",
    "class Solution:\n",
    "    def isPalindrome(self,s: str) -> bool:\n",
    "        start = 0\n",
    "        s = s.lower()\n",
    "        end = len(s)-1\n",
    "        # print(end)\n",
    "        while(end>start):\n",
    "            # print(start,end)\n",
    "            if( s[start].isalnum() and s[end].isalnum() ):\n",
    "                if(s[start] == s[end]):\n",
    "                    start += 1\n",
    "                    end -=1\n",
    "                else:\n",
    "                    # print(s[start], s[end])\n",
    "                    return False\n",
    "            elif( not s[start].isalnum()):\n",
    "                start += 1\n",
    "            else:\n",
    "                end -=1\n",
    "        return True\n",
    "\n",
    "test= Solution()\n",
    "test.isPalindrome(s)"
   ]
  },
  {
   "cell_type": "markdown",
   "id": "9859aa03-1b0e-43ad-b4bf-f39599046622",
   "metadata": {},
   "source": [
    "#### 383. Ransom Note\n",
    "\n",
    "Given two strings `ransomNote` and `magazine`, return true if `ransomNote` can be constructed by using the letters from `magazine` and false otherwise. Each letter in `magazine` can only be used once in `ransomNote`.\n",
    "\n",
    "**Example 1**:\n",
    "\n",
    "**Input**: `ransomNote = \"a\", magazine = \"b\"`<br>\n",
    "**Output**: `false`\n"
   ]
  },
  {
   "cell_type": "code",
   "execution_count": 36,
   "id": "1c3b6326-6e1f-4c3b-9bac-5c9c24627f6a",
   "metadata": {},
   "outputs": [],
   "source": [
    "class Solution:\n",
    "    def canConstruct(self, ransomNote: str, magazine: str) -> bool:\n",
    "        a = dict(Counter(ransomNote))\n",
    "        b = dict(Counter(magazine))\n",
    "        for i in a:\n",
    "            if( i in b):\n",
    "                if(a[i] <= b[i]):\n",
    "                    pass\n",
    "                else:\n",
    "                    return False\n",
    "            else:\n",
    "                return False\n",
    "        return True\n",
    "        "
   ]
  },
  {
   "cell_type": "markdown",
   "id": "3e22a578-1813-4708-b59a-388162c7139e",
   "metadata": {},
   "source": [
    "##### Approach 2"
   ]
  },
  {
   "cell_type": "code",
   "execution_count": 37,
   "id": "293a74a3-4190-4335-9ef1-6bc145a60830",
   "metadata": {},
   "outputs": [],
   "source": [
    "class Solution:\n",
    "    def canConstruct(self, ransomNote: str, magazine: str) -> bool:\n",
    "        a = set(ransomNote) \n",
    "        for i in a:\n",
    "            if magazine.count(i)<ransomNote.count(i):\n",
    "              return(False)\n",
    "              break\n",
    "        else:\n",
    "            return(True)\n",
    "        "
   ]
  },
  {
   "cell_type": "markdown",
   "id": "121f86df-8dfd-446f-be24-426d7a53fc5c",
   "metadata": {},
   "source": [
    "#### 15. 3Sum\n",
    "Given an integer array `nums`, return all the triplets `[nums[i], nums[j], nums[k]]` such that `i != j`, `i != k`, and `j != k`,<br>\n",
    "and `nums[i] + nums[j] + nums[k] == 0`.<br>\n",
    "\n",
    "Notice that the solution set must not contain duplicate triplets.\n",
    "\n",
    "**Input**: `nums = [-1,0,1,2,-1,-4]`<br>\n",
    "**Output**: `[[ -1, -1, 2], [-1, 0, 1 ]]`<br>\n",
    "**Explanation**:<br>\n",
    "`nums[0] + nums[1] + nums[2] = (-1) + 0 + 1 = 0`.<br>\n",
    "`nums[1] + nums[2] + nums[4] = 0 + 1 + (-1) = 0`.<br>\n",
    "`nums[0] + nums[3] + nums[4] = (-1) + 2 + (-1) = 0`.<br>\n",
    "The distinct triplets are `[-1, 0, 1]` and `[-1, -1, 2]`.<br>\n",
    "Notice that the order of the output and the order of the triplets does not matter.\n",
    " matter."
   ]
  },
  {
   "cell_type": "code",
   "execution_count": 39,
   "id": "82d5bb61-2d09-4f7c-97d7-e525eddfa93e",
   "metadata": {},
   "outputs": [],
   "source": [
    "class Solution:\n",
    "    def threeSum(self, nums: list[int]) -> list[list[int]]:\n",
    "        n = len(nums)\n",
    "        nums.sort()\n",
    "        # target = 0\n",
    "        combination = []\n",
    "        for i in range(n-2):\n",
    "            if(i>0 and nums[i] == nums[i-1]):\n",
    "                # print(nums[i], nums[i-1])\n",
    "                continue\n",
    "            start = i+1\n",
    "            end = n-1\n",
    "            while end>start:\n",
    "                x,y,z = nums[i], nums[start], nums[end]\n",
    "                triplet = x+y+z\n",
    "                if (triplet == 0):\n",
    "                    combination.append([x,y,z])\n",
    "                    start = start +1\n",
    "                    while (nums[start-1] == nums[start]) and (start < end):\n",
    "                        start = start +1\n",
    "                elif(triplet>0):\n",
    "                    end = end-1\n",
    "                else:\n",
    "                    start = start+1\n",
    "        return combination"
   ]
  },
  {
   "cell_type": "markdown",
   "id": "f8118f9e-e2ed-4522-a516-7ddbc52307cf",
   "metadata": {},
   "source": [
    "#### 69. Sqrt(x)\n",
    "\n",
    "Given a non-negative integer `x`, return the square root of `x` rounded down to the nearest integer. The returned integer should be non-negative as well. You must not use any built-in exponent function or operator.<br>\n",
    "For example, do not use `pow(x, 0.5)` in C++ or `x ** 0.5` in Python.\n",
    "\n",
    "**Example 1**:\n",
    "\n",
    "**Input**: `x = 4`<br>\n",
    "**Output**: `2`<br>\n",
    "**Explanation**: The square root of 4 is 2, so we return 2.\n"
   ]
  },
  {
   "cell_type": "code",
   "execution_count": 40,
   "id": "bd6f7712-45f0-4812-bf44-55cf7a2e9325",
   "metadata": {},
   "outputs": [],
   "source": [
    "class Solution:\n",
    "    def mySqrt(self, x: int) -> int:\n",
    "        L , R = 1, x\n",
    "        while (L <= R):\n",
    "            M = (L+R)//2\n",
    "            target = M*M\n",
    "            if(target == x):\n",
    "                return M\n",
    "            elif(target<x):\n",
    "                L = M+1\n",
    "            else:\n",
    "                R = M-1\n",
    "        return R"
   ]
  },
  {
   "cell_type": "markdown",
   "id": "ca9a5fef",
   "metadata": {},
   "source": [
    "#### List Node Creation:"
   ]
  },
  {
   "cell_type": "code",
   "execution_count": 20,
   "id": "6e3139dc",
   "metadata": {},
   "outputs": [],
   "source": [
    "# Creating a ListNode to use\n",
    "class ListNode:\n",
    "    def __init__(self, val=0, next=None):\n",
    "        self.val = val\n",
    "        self.next = next"
   ]
  },
  {
   "cell_type": "markdown",
   "id": "3fd5e6e3",
   "metadata": {},
   "source": [
    "#### 141. Linked List Cycle\n",
    "\n",
    "Given `head`, the head of a linked list, determine if the linked list has a cycle in it. There is a cycle in a linked list if there is some node in the list that can be reached again by continuously following the next pointer. Internally, `pos` is used to denote the index of the node that tail's next pointer is connected to. Note that `pos` is not passed as a parameter. Return `true` if there is a cycle in the linked list. Otherwise, return `false`.\n",
    "\n",
    "**Example**:\n",
    "\n",
    "**Input**: `head = [3,2,0,-4], pos = 1`<br>\n",
    "**Output**: `true`<br>\n",
    "**Explanation**: There is a cycle in the linked list, where the tail connects to the 1st node (0-indexed).\n"
   ]
  },
  {
   "cell_type": "code",
   "execution_count": 4,
   "id": "c494c442-84c8-42a5-ad98-1409791e01e1",
   "metadata": {},
   "outputs": [],
   "source": [
    "# Definition for singly-linked list.\n",
    "# class ListNode:\n",
    "#     def __init__(self, x):\n",
    "#         self.val = x\n",
    "#         self.next = None\n",
    "\n",
    "class Solution:\n",
    "\n",
    "    def hasCycle(self, head):\n",
    "        slow = head\n",
    "        fast = head\n",
    "        while slow and fast and fast.next:\n",
    "            slow = slow.next\n",
    "            fast = fast.next.next\n",
    "            # if(slow == None or fast == None):\n",
    "            #     return False\n",
    "            # print(f\"slow - {slow.val}\")\n",
    "            # print(f\"fast - {fast.val}\")\n",
    "            if slow == fast:\n",
    "                return True\n",
    "        return False"
   ]
  },
  {
   "cell_type": "markdown",
   "id": "3c3f1c16",
   "metadata": {},
   "source": [
    "#### 876. Middle of the Linked List\n",
    "\n",
    "Given the head of a singly linked list, return the middle node of the linked list. If there are two middle nodes, return the second middle node.\n",
    "\n",
    "**Example**:\n",
    "\n",
    "**Input**: `head = [1,2,3,4,5]`<br>\n",
    "**Output**: `[3,4,5]`<br>\n",
    "**Explanation**: The middle node of the list is node 3.\n"
   ]
  },
  {
   "cell_type": "code",
   "execution_count": 9,
   "id": "97fcf90a",
   "metadata": {},
   "outputs": [],
   "source": [
    "# Two Pointer approach - TC O(N), SC O(1)\n",
    "# from LinkedListProblems.LinkedList import Linkedlist\n",
    "# from LinkedListProblems.LinkedList import LinkedNode\n",
    "# Definition for singly-linked list.\n",
    "# class ListNode:\n",
    "#     def __init__(self, val=0, next=None):\n",
    "#         self.val = val\n",
    "#         self.next = next\n",
    "class Solution:\n",
    "    def middleNode(self, head):\n",
    "        slow = head\n",
    "        fast = head\n",
    "        while fast and fast.next:\n",
    "            slow = slow.next\n",
    "            fast = fast.next.next\n",
    "        return slow\n",
    "# ll =  Linkedlist(1,2,3,4,5)\n",
    "# used_head = ll.head\n",
    "# solution = Solution()\n",
    "# middle_head = solution.middleNode(used_head)\n",
    "# print(middle_head.value)"
   ]
  },
  {
   "cell_type": "markdown",
   "id": "03e0eaa5",
   "metadata": {},
   "source": [
    "#### 19. Remove Nth Node From End of List\n",
    "\n",
    "Given the head of a linked list, remove the nth node from the end of the list and return its head.\n",
    "\n",
    "**Example 1**:\n",
    "\n",
    "**Input**: `head = [1,2,3,4,5], n = 2`<br>\n",
    "**Output**: `[1,2,3,5]`\n"
   ]
  },
  {
   "cell_type": "code",
   "execution_count": 15,
   "id": "93d1f21a",
   "metadata": {},
   "outputs": [],
   "source": [
    "# Approach - Before start iterating the slow pointer start iterating the fast pointer by n times\n",
    "#            After that start iterating the slow pointer. Hence both pointers will be n spaces seperated. Once\n",
    "#            the fast pointer reaches the end at that point slow pointer is at nth node from end update slow pointer\n",
    "# TC - 0(N), SC - O(N)\n",
    "#Code\n",
    "# from LinkedListProblems.LinkedList import LinkedNode\n",
    "class LinkedNode:\n",
    "    def __init__(self,value):\n",
    "        self.value = value\n",
    "        self.next = None\n",
    "\n",
    "class Solution:\n",
    "    def removeNthFromEnd(self, head, n: int):\n",
    "        dummy = LinkedNode(0)  # Creating a Dummy node\n",
    "        dummy.next = head\n",
    "        fast = dummy\n",
    "        slow = dummy\n",
    "        for _ in range(n+1):\n",
    "            fast = fast.next\n",
    "        while fast:\n",
    "            fast = fast.next\n",
    "            slow = slow.next\n",
    "        slow.next = slow.next.next\n",
    "        return dummy.next"
   ]
  },
  {
   "cell_type": "markdown",
   "id": "af0bddf7",
   "metadata": {},
   "source": [
    "#### 21. Merge Two Sorted Lists\n",
    "\n",
    "You are given the heads of two sorted linked lists `list1` and `list2`. Merge the two lists into one sorted list. The list should be made by splicing together the nodes of the first two lists. Return the head of the merged linked list.\n",
    "\n",
    "**Example**:\n",
    "\n",
    "**Input**: `list1 = [1,2,4], list2 = [1,3,4]`<br>\n",
    "**Output**: `[1,1,2,3,4,4]`\n"
   ]
  },
  {
   "cell_type": "code",
   "execution_count": 17,
   "id": "fbd1dd63",
   "metadata": {},
   "outputs": [],
   "source": [
    "# Approach - Interchange the node connections by verifying min of each node\n",
    "# TC - O(N), SC - O(1)\n",
    "class Solution:\n",
    "    def mergeTwoLists(self, list1, list2):\n",
    "        dummy_head = tail = LinkedNode()\n",
    "        L1 = list1\n",
    "        L2 = list2\n",
    "        while L1 and L2:\n",
    "            if(L1.val < L2.val):\n",
    "                tail.next = L1\n",
    "                L1 = L1.next\n",
    "            else:\n",
    "                tail.next = L2\n",
    "                L2 = L2.next\n",
    "            tail = tail.next\n",
    "        tail.next = L1 or L2\n",
    "        return dummy_head.next"
   ]
  },
  {
   "cell_type": "markdown",
   "id": "073b24bb",
   "metadata": {},
   "source": [
    "#### 92. Reverse Linked List II\n",
    "\n",
    "Given the head of a singly linked list and two integers `left` and `right` where `left <= right`, reverse the nodes of the list from position `left` to position `right`, and return the reversed list.\n",
    "\n",
    "**Example**:\n",
    "\n",
    "**Input**: `head = [1,2,3,4,5], left = 2, right = 4`<br>\n",
    "**Output**: `[1,4,3,2,5]`\n"
   ]
  },
  {
   "cell_type": "code",
   "execution_count": 21,
   "id": "e5fe86ea",
   "metadata": {},
   "outputs": [],
   "source": [
    "# Approach - Iterating to the left and reversing the sublist\n",
    "# TC - O(1), SC - O(1)\n",
    "# Approach 1:\n",
    "# from ListNodeCreation import ListNode\n",
    "\n",
    "\n",
    "class Solution:\n",
    "    def reverseBetween(self, head, left: int, right: int):\n",
    "        dummy = ListNode(0,head)\n",
    "        prev  = dummy\n",
    "        index = 1\n",
    "        cur = head\n",
    "        while cur:\n",
    "            if(index == left):\n",
    "                temp = None\n",
    "                r_tail = cur\n",
    "                while(index <= right):\n",
    "                    temp2 = cur.next\n",
    "                    cur.next = temp\n",
    "                    temp = cur\n",
    "                    cur = temp2\n",
    "                    index+=1\n",
    "                r_tail.next = cur\n",
    "                prev.next = temp\n",
    "                return dummy.next\n",
    "            prev = cur\n",
    "            cur = cur.next\n",
    "            index+=1\n",
    "\n",
    "# Approach 2: used for loop\n",
    "class Solution:\n",
    "    def reverseBetween(self, head, left: int, right: int):\n",
    "        dummy = ListNode(0, head)\n",
    "\n",
    "        # 1) reach node at position \"left\"\n",
    "        leftPrev, cur = dummy, head\n",
    "        for i in range(left - 1):\n",
    "            leftPrev, cur = cur, cur.next\n",
    "\n",
    "        # Now cur=\"left\", leftPrev=\"node before left\"\n",
    "        # 2) reverse from left to right\n",
    "        prev = None\n",
    "        for i in range(right - left + 1):\n",
    "            tmpNext = cur.next\n",
    "            cur.next = prev\n",
    "            prev, cur = cur, tmpNext\n",
    "\n",
    "        # 3) Update pointers\n",
    "        leftPrev.next.next = cur  # cur is node after \"right\"\n",
    "        leftPrev.next = prev  # prev is \"right\"\n",
    "        return dummy.next"
   ]
  },
  {
   "cell_type": "markdown",
   "id": "b0bad81d",
   "metadata": {},
   "source": [
    "#### 189. Rotate Array\n",
    "\n",
    "Given an integer array `nums`, rotate the array to the right by `k` steps, where `k` is non-negative.\n",
    "\n",
    "**Example 1**:\n",
    "\n",
    "**Input**: `nums = [1,2,3,4,5,6,7], k = 3`<br>\n",
    "**Output**: `[5,6,7,1,2,3,4]`<br>\n",
    "**Explanation**:\n",
    "- Rotate 1 step to the right: `[7,1,2,3,4,5,6]`\n",
    "- Rotate 2 steps to the right: `[6,7,1,2,3,4,5]`\n",
    "- Rotate 3 steps to the right: `[5,6,7,1,2,3,4]`\n"
   ]
  },
  {
   "cell_type": "code",
   "execution_count": 22,
   "id": "ee917580",
   "metadata": {},
   "outputs": [
    {
     "data": {
      "text/plain": [
       "[5, 6, 7, 1, 2, 3, 4]"
      ]
     },
     "execution_count": 22,
     "metadata": {},
     "output_type": "execute_result"
    }
   ],
   "source": [
    "# Approach: swaping elements, TC - O(N), SC - O(1)\n",
    "class Solution:\n",
    "    def rotate(self, nums: list[int], k: int) -> None:\n",
    "        \"\"\"\n",
    "        Do not return anything, modify nums in-place instead.\n",
    "        \"\"\"\n",
    "        n = len(nums)\n",
    "        k = k%n\n",
    "        def reverse(start,end):\n",
    "            while(start<end):\n",
    "                nums[start], nums[end] = nums[end], nums[start]\n",
    "                start, end =  start + 1, end -1\n",
    "        \n",
    "        # reverse(0,n-1)  # reversing whole list\n",
    "        # reverse(0,k-1)  # reversing first k elements\n",
    "        # reverse(k,n-1)  # reversing last n-k elements\n",
    "        # Another way\n",
    "        reverse(0,(n-k-1))  # reversing first n-k elements\n",
    "        reverse((n-k),n-1)  # reversing last k elements\n",
    "        reverse(0,n-1)      # reversing whole list\n",
    "        return nums\n",
    "nums = [1,2,3,4,5,6,7]\n",
    "k = 3\n",
    "Solution().rotate(nums,k)\n",
    "\n",
    "# Approach 2 : slicing\n",
    "class Solution:\n",
    "    def rotate(self, nums: list[int], k: int) -> None:\n",
    "        \"\"\"\n",
    "        Do not return anything, modify nums in-place instead.\n",
    "        \"\"\"\n",
    "        k = k%len(nums)\n",
    "        nums[:] = nums[-k:]+nums[:-k]\n",
    "        return nums\n",
    "nums = [1,2,3,4,5,6,7]\n",
    "k = 3\n",
    "Solution().rotate(nums,k)"
   ]
  },
  {
   "cell_type": "code",
   "execution_count": 2,
   "id": "75f820a2",
   "metadata": {},
   "outputs": [
    {
     "data": {
      "text/plain": [
       "['abc', 'bac', 'bca', 'acb', 'cab', 'cba']"
      ]
     },
     "execution_count": 2,
     "metadata": {},
     "output_type": "execute_result"
    }
   ],
   "source": [
    "def anagrams_of(string):\n",
    "    res = []\n",
    "    if(len(string) == 1):\n",
    "        return string\n",
    "    sub_string = anagrams_of(string[1:])\n",
    "    for sub in sub_string:\n",
    "        for i in range(len(sub_string)+1):\n",
    "            copy_string = list(sub)\n",
    "            copy_string.insert(i,string[0])\n",
    "            res.append(\"\".join(copy_string))\n",
    "    return res\n",
    "            \n",
    "anagrams_of(\"abc\")"
   ]
  },
  {
   "cell_type": "markdown",
   "id": "c005e309",
   "metadata": {},
   "source": [
    "#### 252. Meeting Rooms\n",
    "\n",
    "Given an array of meeting time intervals where `intervals[i] = [starti, endi]`, determine if a person could attend all meetings.\n",
    "\n",
    "**Example 1**:\n",
    "\n",
    "**Input**: `intervals = [[0,30],[5,10],[15,20]]`<br>\n",
    "**Output**: `false`\n",
    "\n",
    "**Example 2**:\n",
    "\n",
    "**Input**: `intervals = [[7,10],[2,4]]`<br>\n",
    "**Output**: `true`\n"
   ]
  },
  {
   "cell_type": "code",
   "execution_count": 16,
   "id": "eb2c9ff7",
   "metadata": {},
   "outputs": [
    {
     "data": {
      "text/plain": [
       "False"
      ]
     },
     "execution_count": 16,
     "metadata": {},
     "output_type": "execute_result"
    }
   ],
   "source": [
    "# intervals = [[0,30],[5,10],[15,20]]\n",
    "intervals = [[7,10],[2,4],[5,8]]\n",
    "def canAttendMeetings(intervals):\n",
    "    intervals.sort()\n",
    "    prev = -1\n",
    "    for sub in intervals:\n",
    "        if(prev<sub[0]):\n",
    "            prev = sub[1]\n",
    "            continue\n",
    "        else:\n",
    "            return False\n",
    "        \n",
    "    return True\n",
    "canAttendMeetings(intervals)\n"
   ]
  },
  {
   "cell_type": "markdown",
   "id": "f531abec",
   "metadata": {},
   "source": [
    "#### [253. Meeting Rooms II](https://leetcode.com/problems/meeting-rooms-ii/)\n",
    "\n",
    "Given an array of meeting time intervals `intervals` where `intervals[i] = [starti, endi]`, return the minimum number of conference rooms required.\n",
    "\n",
    "**Example 1**:\n",
    "\n",
    "**Input**: `intervals = [[0,30],[5,10],[15,20]]`<br>\n",
    "**Output**: `2`\n",
    "\n",
    "**Example 2**:\n",
    "\n",
    "**Input**: `intervals = [[7,10],[2,4]]`<br>\n",
    "**Output**: `1`\n"
   ]
  },
  {
   "cell_type": "code",
   "execution_count": 49,
   "id": "9577d0c9",
   "metadata": {},
   "outputs": [
    {
     "data": {
      "text/plain": [
       "2"
      ]
     },
     "execution_count": 49,
     "metadata": {},
     "output_type": "execute_result"
    }
   ],
   "source": [
    "intervals = [[0,30],[5,10],[15,20]]\n",
    "def minMeetingRooms(intervals):\n",
    "    start, end = (list(zip(*intervals)))\n",
    "    start = sorted(start)\n",
    "    end = sorted(end)\n",
    "    j= 0\n",
    "    active_rooms = 0\n",
    "    for i in range(len(start)-1):\n",
    "        if start[i] < end[j]:\n",
    "            active_rooms += 1\n",
    "        else:\n",
    "            j += 1\n",
    "    return active_rooms\n",
    "minMeetingRooms(intervals)"
   ]
  },
  {
   "cell_type": "markdown",
   "id": "fb415ee7",
   "metadata": {},
   "source": [
    "#### 409. Longest Palindrome\n",
    "\n",
    "Given a string `s` which consists of lowercase or uppercase letters, return the length of the longest palindrome that can be built with those letters. Letters are case sensitive, for example, \"Aa\" is not considered a palindrome.\n",
    "\n",
    "**Example 1**:\n",
    "\n",
    "**Input**: `s = \"abccccdd\"`<br>\n",
    "**Output**: `7`<br>\n",
    "**Explanation**: One longest palindrome that can be built is `\"dccaccd\"`, whose length is `7`.\n"
   ]
  },
  {
   "cell_type": "code",
   "execution_count": 50,
   "id": "9fa04f38",
   "metadata": {},
   "outputs": [
    {
     "data": {
      "text/plain": [
       "7"
      ]
     },
     "execution_count": 50,
     "metadata": {},
     "output_type": "execute_result"
    }
   ],
   "source": [
    "from collections import Counter\n",
    "\n",
    "\n",
    "class Solution:\n",
    "    def longestPalindrome(self, s: str) -> int:\n",
    "        hash_var = dict(Counter(s))\n",
    "        # print(hash_var)\n",
    "        l = len(s)\n",
    "        count = 0\n",
    "        for i in hash_var:\n",
    "            if(hash_var[i]%2 == 0):\n",
    "                pass\n",
    "            else:\n",
    "                count = count + 1\n",
    "        if(count == 0):\n",
    "            return l-count\n",
    "        else:\n",
    "            return l-count+1\n",
    "\n",
    "s = \"abccccdd\"\n",
    "Solution().longestPalindrome(s)"
   ]
  },
  {
   "cell_type": "markdown",
   "id": "7ccc842c",
   "metadata": {},
   "source": [
    "#### 9. Palindrome Number\n",
    "\n",
    "Given an integer `x`, return `true` if `x` is a palindrome and `false` otherwise.\n",
    "\n",
    "**Example 1**:\n",
    "\n",
    "**Input**: `x = 121`<br>\n",
    "**Output**: `true`<br>\n",
    "**Explanation**: `121` reads as `121` from left to right and from right to left.\n"
   ]
  },
  {
   "cell_type": "code",
   "execution_count": 51,
   "id": "c4fc0a24",
   "metadata": {},
   "outputs": [
    {
     "data": {
      "text/plain": [
       "True"
      ]
     },
     "execution_count": 51,
     "metadata": {},
     "output_type": "execute_result"
    }
   ],
   "source": [
    "class Solution:\n",
    "    def isPalindrome(self, x: int) -> bool:\n",
    "        if x < 0:\n",
    "            return False\n",
    "\n",
    "        reverse = 0\n",
    "        xcopy = x\n",
    "\n",
    "        while x > 0:\n",
    "            reverse = (reverse * 10) + (x % 10)\n",
    "            x //= 10\n",
    "        \n",
    "        return reverse == xcopy\n",
    "\n",
    "Solution().isPalindrome(1000001)"
   ]
  },
  {
   "cell_type": "markdown",
   "id": "b43f6d17",
   "metadata": {},
   "source": [
    "#### 58. Length of Last Word\n",
    "\n",
    "Given a string `s` consisting of words and spaces, return the length of the last word in the string. A word is a maximal substring consisting of non-space characters only.\n",
    "\n",
    "**Example 1**:\n",
    "\n",
    "**Input**: `s = \"Hello World\"`<br>\n",
    "**Output**: `5`<br>\n",
    "**Explanation**: The last word is `\"World\"` with length `5`.\n"
   ]
  },
  {
   "cell_type": "code",
   "execution_count": 1,
   "id": "b7afdcaa",
   "metadata": {},
   "outputs": [
    {
     "data": {
      "text/plain": [
       "5"
      ]
     },
     "execution_count": 1,
     "metadata": {},
     "output_type": "execute_result"
    }
   ],
   "source": [
    "class Solution:\n",
    "    def lengthOfLastWord(self, s: str) -> int:\n",
    "        s_list = s.strip().split(\" \")\n",
    "        l = len(s_list)\n",
    "        return (len(s_list[l-1]))\n",
    "\n",
    "s = \"Hello World\"\n",
    "Solution().lengthOfLastWord(s)"
   ]
  },
  {
   "cell_type": "markdown",
   "id": "2a45e0c2",
   "metadata": {},
   "source": [
    "#### 704. Binary Search\n",
    "\n",
    "Given an array of integers `nums` which is sorted in ascending order, and an integer `target`, write a function to search `target` in `nums`. If `target` exists, then return its index. Otherwise, return `-1`. You must write an algorithm with `O(log n)` runtime complexity.\n",
    "\n",
    "**Example 1**:\n",
    "\n",
    "**Input**: `nums = [-1,0,3,5,9,12], target = 9`<br>\n",
    "**Output**: `4`<br>\n",
    "**Explanation**: `9` exists in `nums` and its index is `4`.\n"
   ]
  },
  {
   "cell_type": "code",
   "execution_count": 2,
   "id": "2cce555b",
   "metadata": {},
   "outputs": [
    {
     "data": {
      "text/plain": [
       "4"
      ]
     },
     "execution_count": 2,
     "metadata": {},
     "output_type": "execute_result"
    }
   ],
   "source": [
    "class Solution:\n",
    "    def search(self, nums: list[int], target: int) -> int:\n",
    "        start = 0\n",
    "        end = len(nums)-1\n",
    "        while start<=end:\n",
    "            mid = int((start + end)/2)\n",
    "            if(target == nums[mid]):\n",
    "                return mid\n",
    "            elif(target>nums[mid]):\n",
    "                start = mid+1\n",
    "            else:\n",
    "                end = mid-1\n",
    "        return -1\n",
    "\n",
    "nums = [-1,0,3,5,9,12]\n",
    "target = 9\n",
    "Solution().search(nums,target)"
   ]
  },
  {
   "cell_type": "markdown",
   "id": "b709b982",
   "metadata": {},
   "source": [
    "#### 1464. Maximum Product of Two Elements in an Array\n",
    "\n",
    "Given the array of integers `nums`, you will choose two different indices `i` and `j` of that array. Return the maximum value of `(nums[i]-1)*(nums[j]-1)`.\n",
    "\n",
    "**Example 1**:\n",
    "\n",
    "**Input**: `nums = [3,4,5,2]`<br>\n",
    "**Output**: `12`<br>\n",
    "**Explanation**: If you choose the indices `i=1` and `j=2` (indexed from `0`), you will get the maximum value, that is, `(nums[1]-1)*(nums[2]-1) = (4-1)*(5-1) = 3*4 = 12`.\n"
   ]
  },
  {
   "cell_type": "code",
   "execution_count": 1,
   "id": "ad675986",
   "metadata": {},
   "outputs": [
    {
     "data": {
      "text/plain": [
       "16"
      ]
     },
     "execution_count": 1,
     "metadata": {},
     "output_type": "execute_result"
    }
   ],
   "source": [
    "nums = [1,5,4,5]\n",
    "class Solution:\n",
    "    def maxProduct(self, nums: list[int]) -> int:\n",
    "        first_max = second_max = float('-inf')\n",
    "        for i in range(len(nums)):\n",
    "            if nums[i] > first_max:\n",
    "                second_max = first_max\n",
    "                first_max = nums[i]\n",
    "                # first_max_index = i\n",
    "            elif second_max < nums[i]: # and first_max_index != i:\n",
    "                second_max = nums[i]\n",
    "\n",
    "\n",
    "        return (first_max-1)*(second_max-1)\n",
    "\n",
    "Solution().maxProduct(nums)"
   ]
  },
  {
   "cell_type": "markdown",
   "id": "4ea15255",
   "metadata": {},
   "source": [
    "#### 50. Pow(x, n)\n",
    "\n",
    "Implement `pow(x, n)`, which calculates `x` raised to the power `n` (i.e., `x^n`).\n",
    "\n",
    "**Example 3**:\n",
    "\n",
    "**Input**: `x = 2.00000, n = -2`<br>\n",
    "**Output**: `0.25000`<br>\n",
    "**Explanation**: `2^-2 = 1/2^2 = 1/4 = 0.25`\n"
   ]
  },
  {
   "cell_type": "code",
   "execution_count": 2,
   "id": "42f94274",
   "metadata": {},
   "outputs": [
    {
     "data": {
      "text/plain": [
       "0.0"
      ]
     },
     "execution_count": 2,
     "metadata": {},
     "output_type": "execute_result"
    }
   ],
   "source": [
    "class Solution:\n",
    "    def myPow(self, x: float, n: int) -> float:\n",
    "        if n == 0:\n",
    "            return 1\n",
    "        if n == -1:\n",
    "            return 1/x\n",
    "        if n == 1:\n",
    "            return x\n",
    "        return self.myPow(x*x, n//2) * self.myPow(x, n % 2)\n",
    "        \n",
    "Solution().myPow(0.00001,2147483647)"
   ]
  },
  {
   "cell_type": "markdown",
   "id": "1a612268",
   "metadata": {},
   "source": [
    "#### 442. Find All Duplicates in an Array\n",
    "\n",
    "Given an integer array `nums` of length `n` where all the integers of `nums` are in the range `[1, n]` and each integer \n",
    "appears once or twice, return an array of all the integers that appears twice.\n",
    "\n",
    "You must write an algorithm that runs in O(n) time and uses only constant extra space.\n",
    "\n",
    "**Example 1**:\n",
    "\n",
    "**Input**: `nums = [4,3,2,7,8,2,3,1]`<br>\n",
    "**Output**: `[2,3]`\n"
   ]
  },
  {
   "cell_type": "code",
   "execution_count": 2,
   "id": "5952e9a2",
   "metadata": {},
   "outputs": [
    {
     "data": {
      "text/plain": [
       "[2, 3]"
      ]
     },
     "execution_count": 2,
     "metadata": {},
     "output_type": "execute_result"
    }
   ],
   "source": [
    "nums = [4,3,2,7,8,2,3,1]\n",
    "class Solution:\n",
    "    def findDuplicates(self, nums: list[int]) -> list[int]:\n",
    "        result = []\n",
    "        for ele in nums:\n",
    "            if nums[abs(ele) - 1] < 0:\n",
    "                result.append(abs(ele))\n",
    "            else:        \n",
    "                nums[abs(ele)-1] *= -1\n",
    "        return result\n",
    "        \n",
    "Solution().findDuplicates(nums)\n"
   ]
  },
  {
   "cell_type": "markdown",
   "id": "803bb182",
   "metadata": {},
   "source": [
    "#### 150. Evaluate Reverse Polish Notation\n",
    "\n",
    "You are given an array of strings `tokens` that represents an arithmetic expression in a Reverse Polish Notation. Evaluate the expression. Return an integer that represents the value of the expression.\n",
    "\n",
    "Note that:\n",
    "- The valid operators are '+', '-', '*', and '/'.\n",
    "- Each operand may be an integer or another expression.\n",
    "- The division between two integers always truncates toward zero.\n",
    "- There will not be any division by zero.\n",
    "- The input represents a valid arithmetic expression in a reverse polish notation.\n",
    "- The answer and all the intermediate calculations can be represented in a 32-bit integer.\n",
    "\n",
    "#### Example 1:\n",
    "**Input:** `tokens = [\"2\",\"1\",\"+\",\"3\",\"*\"]`  \n",
    "**Output:** `9`  \n",
    "**Explanation:** `((2 + 1) * 3) = 9`\n"
   ]
  },
  {
   "cell_type": "code",
   "execution_count": 1,
   "id": "c322d834",
   "metadata": {},
   "outputs": [
    {
     "data": {
      "text/plain": [
       "22"
      ]
     },
     "execution_count": 1,
     "metadata": {},
     "output_type": "execute_result"
    }
   ],
   "source": [
    "class Solution:\n",
    "    def evalRPN(self, tokens: list[str]) -> int:\n",
    "        stk = []\n",
    "        operators = {\n",
    "            \"+\" : lambda y, x: x + y,\n",
    "            \"-\" : lambda y, x: x-y,\n",
    "            \"*\" : lambda y, x: x*y,\n",
    "            \"/\" : lambda y, x: int(x/y)\n",
    "        }\n",
    "        for i in tokens:\n",
    "            try:\n",
    "                i = int(i)\n",
    "                stk.append(int(i))\n",
    "            except ValueError as ve:\n",
    "                x = stk.pop()\n",
    "                y = stk.pop()\n",
    "                stk.append(operators[i](x,y))\n",
    "        return stk[-1]\n",
    "\n",
    "# Tip : can handle negative values with condition len(token) > 1 or token.isdigit():\n",
    "\n",
    "tst = [\"10\",\"6\",\"9\",\"3\",\"+\",\"-11\",\"*\",\"/\",\"*\",\"17\",\"+\",\"5\",\"+\"]\n",
    "Solution().evalRPN(tst)\n"
   ]
  },
  {
   "cell_type": "markdown",
   "id": "2e9dd072",
   "metadata": {},
   "source": [
    "### 162. Find Peak Element\n",
    "\n",
    "A peak element is an element that is strictly greater than its neighbors. Given a 0-indexed integer array `nums`, find a peak element and return its index. If the array contains multiple peaks, return the index to any of the peaks.\n",
    "\n",
    "You may imagine that `nums[-1] = nums[n] = -∞`. In other words, an element is always considered to be strictly greater than a neighbor that is outside the array.\n",
    "\n",
    "You must write an algorithm that runs in O(log n) time.\n",
    "\n",
    "### Example:\n",
    "\n",
    "**Input:** `nums = [1,2,3,1]`  \n",
    "**Output:** `2`  \n",
    "**Explanation:** `3` is a peak element and your function should return the index number `2`.\n"
   ]
  },
  {
   "cell_type": "code",
   "execution_count": 2,
   "id": "d403d79a",
   "metadata": {},
   "outputs": [
    {
     "data": {
      "text/plain": [
       "2"
      ]
     },
     "execution_count": 2,
     "metadata": {},
     "output_type": "execute_result"
    }
   ],
   "source": [
    "nums = [1,2,3,1]\n",
    "class Solution:\n",
    "    def findPeakElement(self, nums: list[int]) -> int:\n",
    "        start = 0\n",
    "        end = len(nums)-1\n",
    "        while (end>start):\n",
    "            mid = (start + end )//2\n",
    "            if(nums[mid]>nums[mid-1] and nums[mid]>nums[mid+1]):\n",
    "                return mid\n",
    "            elif(nums[mid]<nums[mid+1]):\n",
    "                start = mid +1\n",
    "            else:\n",
    "                end = mid\n",
    "        return start\n",
    "\n",
    "Solution().findPeakElement(nums)  "
   ]
  },
  {
   "cell_type": "markdown",
   "id": "467500b1",
   "metadata": {},
   "source": [
    "### 32. Longest Valid Parentheses\n",
    "\n",
    "Given a string containing just the characters `'('` and `')'`, return the length of the longest valid (well-formed) parentheses substring.\n",
    "\n",
    "### Example 1:\n",
    "**Input:** `s = \"(()\"`  \n",
    "**Output:** `2`  \n",
    "**Explanation:** The longest valid parentheses substring is `\"()\"`.\n"
   ]
  },
  {
   "cell_type": "code",
   "execution_count": 3,
   "id": "406cebad",
   "metadata": {},
   "outputs": [
    {
     "data": {
      "text/plain": [
       "2"
      ]
     },
     "execution_count": 3,
     "metadata": {},
     "output_type": "execute_result"
    }
   ],
   "source": [
    "class Solution:\n",
    "    def longestValidParentheses(self, s: str) -> int:\n",
    "        max_length = 0\n",
    "        stck=[-1] # initialize with a start index\n",
    "        for i in range(len(s)):\n",
    "            if s[i] == '(':\n",
    "                stck.append(i)\n",
    "                # print(stck)\n",
    "            else:\n",
    "                stck.pop()\n",
    "                if not stck: # if popped -1, add a new start index\n",
    "                    stck.append(i)\n",
    "                    # print(stck)\n",
    "                else:\n",
    "                    # print(stck)\n",
    "                    # print(i-stck[-1])\n",
    "                    max_length=max(max_length, i-stck[-1])\n",
    "        return max_length\n",
    "\n",
    "s = \"()(()\"\n",
    "Solution().longestValidParentheses(s)"
   ]
  },
  {
   "cell_type": "markdown",
   "id": "c2978904",
   "metadata": {},
   "source": [
    "### 53. Maximum Subarray\n",
    "\n",
    "Given an integer array `nums`, find the subarray with the largest sum, and return its sum.\n",
    "\n",
    "### Example 1:\n",
    "**Input:** `nums = [-2,1,-3,4,-1,2,1,-5,4]`  \n",
    "**Output:** `6`  \n",
    "**Explanation:** The subarray `[4,-1,2,1]` has the largest sum `6`.\n"
   ]
  },
  {
   "cell_type": "code",
   "execution_count": 6,
   "id": "849f49c4",
   "metadata": {},
   "outputs": [
    {
     "data": {
      "text/plain": [
       "6"
      ]
     },
     "execution_count": 6,
     "metadata": {},
     "output_type": "execute_result"
    }
   ],
   "source": [
    "class Solution:\n",
    "    def maxSubArray(self, nums: list[int]) -> int:\n",
    "        cur_sum = 0\n",
    "        max_sum = float(\"-inf\")\n",
    "        for i in nums:\n",
    "            cur_sum = cur_sum + i\n",
    "            max_sum = max(max_sum, cur_sum)\n",
    "            if(cur_sum < 0):\n",
    "                cur_sum = 0\n",
    "        return max_sum\n",
    "        \n",
    "    \n",
    "nums = [-2,1,-3,4,-1,2,1,-5,4]\n",
    "Solution().maxSubArray(nums)"
   ]
  },
  {
   "cell_type": "markdown",
   "id": "a2273c88",
   "metadata": {},
   "source": [
    "### 35. Search Insert Position\n",
    "\n",
    "Given a sorted array of distinct integers and a target value, return the index if the target is found. If not, return the index where it would be if it were inserted in order. You must write an algorithm with O(log n) runtime complexity.\n",
    "\n",
    "### Example 1:\n",
    "**Input:** `nums = [1,3,5,6]`, `target = 5`  \n",
    "**Output:** `2`\n",
    "\n",
    "### Example 2:\n",
    "**Input:** `nums = [1,3,5,6]`, `target = 7`  \n",
    "**Output:** `4`\n"
   ]
  },
  {
   "cell_type": "code",
   "execution_count": 5,
   "id": "80acb4dd",
   "metadata": {},
   "outputs": [
    {
     "data": {
      "text/plain": [
       "4"
      ]
     },
     "execution_count": 5,
     "metadata": {},
     "output_type": "execute_result"
    }
   ],
   "source": [
    "class Solution:\n",
    "    def searchInsert(self, nums: list[int], target: int) -> int:\n",
    "        start = 0\n",
    "        end = len(nums)-1\n",
    "        while(end>=start):\n",
    "            mid = int(start + (end-start)/2)\n",
    "            if(nums[mid]==target):\n",
    "                return mid\n",
    "            elif(nums[mid]<target):\n",
    "                start = mid +1\n",
    "            else:\n",
    "                end = mid -1\n",
    "        # print(start,mid, end)\n",
    "        return start\n",
    "\n",
    "nums = [1,3,5,6]\n",
    "target = 7\n",
    "        \n",
    "Solution().searchInsert(nums,target)"
   ]
  },
  {
   "cell_type": "markdown",
   "id": "7f49a491",
   "metadata": {},
   "source": [
    "### 28. Find the Index of the First Occurrence in a String\n",
    "\n",
    "Given two strings `needle` and `haystack`, return the index of the first occurrence of `needle` in `haystack`, or `-1` if `needle` is not part of `haystack`.\n",
    "\n",
    "### Example 1:\n",
    "**Input:** `haystack = \"sadbutsad\"`, `needle = \"sad\"`  \n",
    "**Output:** `0`  \n",
    "**Explanation:** `\"sad\"` occurs at index `0` and `6`. The first occurrence is at index `0`, so we return `0`.\n"
   ]
  },
  {
   "cell_type": "code",
   "execution_count": 7,
   "id": "6caa5746",
   "metadata": {},
   "outputs": [
    {
     "data": {
      "text/plain": [
       "0"
      ]
     },
     "execution_count": 7,
     "metadata": {},
     "output_type": "execute_result"
    }
   ],
   "source": [
    "class Solution:\n",
    "    def strStr(self, haystack: str, needle: str) -> int:\n",
    "        start_1 = 0\n",
    "        start_2 = 0\n",
    "        first = True\n",
    "        store = 0\n",
    "        while start_1<len(haystack):\n",
    "            if(haystack[start_1]==needle[start_2]):\n",
    "                slice1 = haystack[start_1:start_1+len(needle)]\n",
    "                # print(slice1)\n",
    "                if(slice1 == needle):\n",
    "                    return start_1\n",
    "            start_2 = 0\n",
    "            start_1+=1\n",
    "        return -1\n",
    "\n",
    "# class Solution:\n",
    "#     def strStr(self, haystack: str, needle: str) -> int:\n",
    "#         l,r = 0, 0\n",
    "\n",
    "#         while l < len(haystack):\n",
    "#             if haystack[l] == needle[r]:\n",
    "#                 r += 1\n",
    "#                 if r == len(needle):\n",
    "#                     return l - r + 1\n",
    "#             else:\n",
    "#                 l -= r  # Move back l to the beginning of the current match attempt\n",
    "#                 r = 0  # Reset r\n",
    "#             l += 1\n",
    "        \n",
    "#         return -1\n",
    "\n",
    "haystack = \"sadbutsad\"\n",
    "needle = \"sad\"\n",
    "Solution().strStr(haystack,needle)"
   ]
  },
  {
   "cell_type": "code",
   "execution_count": null,
   "id": "1cf3c371",
   "metadata": {},
   "outputs": [],
   "source": []
  }
 ],
 "metadata": {
  "kernelspec": {
   "display_name": "Python 3 (ipykernel)",
   "language": "python",
   "name": "python3"
  },
  "language_info": {
   "codemirror_mode": {
    "name": "ipython",
    "version": 3
   },
   "file_extension": ".py",
   "mimetype": "text/x-python",
   "name": "python",
   "nbconvert_exporter": "python",
   "pygments_lexer": "ipython3",
   "version": "3.12.2"
  }
 },
 "nbformat": 4,
 "nbformat_minor": 5
}
